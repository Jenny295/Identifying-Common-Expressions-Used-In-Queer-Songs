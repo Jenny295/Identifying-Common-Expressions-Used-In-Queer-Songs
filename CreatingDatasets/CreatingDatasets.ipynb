{
 "cells": [
  {
   "cell_type": "markdown",
   "id": "2e40a8ba",
   "metadata": {},
   "source": [
    " # Creating Datasets"
   ]
  },
  {
   "cell_type": "markdown",
   "id": "99a2d63b",
   "metadata": {},
   "source": [
    "The data set must first be downloaded and unpacked from:https://www.kaggle.com/datasets/carlosgdcj/genius-song-lyrics-with-language-information/data\n",
    "Parts of the code is based on the exercises from the course Natural Language Engineering 2 and changed accordingly."
   ]
  },
  {
   "cell_type": "code",
   "execution_count": 1,
   "id": "ca194010",
   "metadata": {},
   "outputs": [],
   "source": [
    "import numpy as np\n",
    "import pandas as pd"
   ]
  },
  {
   "cell_type": "code",
   "execution_count": 78,
   "id": "2479efd8",
   "metadata": {},
   "outputs": [],
   "source": [
    "# Number of rows to skip in the data set\n",
    "anzahl_zu_überspringende_zeilen1 = 0\n",
    "anzahl_zu_überspringende_zeilen2 = 1000000\n",
    "anzahl_zu_überspringende_zeilen3 = 2000000\n",
    "anzahl_zu_überspringende_zeilen4 = 3000000\n",
    "anzahl_zu_überspringende_zeilen5 = 4000000\n",
    "anzahl_zu_überspringende_zeilen6 = 5000000\n",
    "\n",
    "# Number of rows to be saved\n",
    "anzahl_zu_ladende_zeilen = 1000000"
   ]
  },
  {
   "cell_type": "code",
   "execution_count": 79,
   "id": "60a077da",
   "metadata": {},
   "outputs": [],
   "source": [
    "# Individual data frames because it was not possible to load everything at once\n",
    "songs_df1 = pd.read_csv(\"song_lyrics.csv\", skiprows=range(1, anzahl_zu_überspringende_zeilen1), nrows=anzahl_zu_ladende_zeilen)\n",
    "songs_df2 = pd.read_csv(\"song_lyrics.csv\", skiprows=range(1, anzahl_zu_überspringende_zeilen2), nrows=anzahl_zu_ladende_zeilen)\n",
    "songs_df3 = pd.read_csv(\"song_lyrics.csv\", skiprows=range(1, anzahl_zu_überspringende_zeilen3), nrows=anzahl_zu_ladende_zeilen)\n",
    "songs_df4 = pd.read_csv(\"song_lyrics.csv\", skiprows=range(1, anzahl_zu_überspringende_zeilen4), nrows=anzahl_zu_ladende_zeilen)\n",
    "songs_df5 = pd.read_csv(\"song_lyrics.csv\", skiprows=range(1, anzahl_zu_überspringende_zeilen5), nrows=anzahl_zu_ladende_zeilen)\n",
    "songs_df6 = pd.read_csv(\"song_lyrics.csv\", skiprows=range(1, anzahl_zu_überspringende_zeilen6), nrows=anzahl_zu_ladende_zeilen)"
   ]
  },
  {
   "cell_type": "code",
   "execution_count": 116,
   "id": "7ae59ee6",
   "metadata": {},
   "outputs": [],
   "source": [
    "with open('lesbian_musicians.txt', 'r', encoding='utf-8') as file:\n",
    "    lesbian_list = file.read().splitlines()\n",
    "\n",
    "# Empty data frame to save results\n",
    "results_lesbian_df = pd.DataFrame(columns=['id', 'artist', 'title', 'lyrics', 'tag', 'year'])\n",
    "\n",
    "# Iterates through each artist name and runs the query\n",
    "for artist in lesbian_list:\n",
    "    for i in range(1, 7):  # Through songs_df1 to songs_df6\n",
    "        df_name = globals()[f'songs_df{i}']\n",
    "        # Runs the query and gets the relevant rows for the artist\n",
    "        artist_rows = df_name[df_name['artist'].str.contains(artist, case=False)]\n",
    "        if not artist_rows.empty:\n",
    "            # Adds the relevant rows to the results table\n",
    "            results_lesbian_df = pd.concat([results_lesbian_df, artist_rows], ignore_index=True)\n",
    "\n",
    "# Saves the results to a CSV file\n",
    "results_lesbian_df.to_csv('lesbian_songs.csv', index=False)\n",
    "\n",
    "# Same code for the other data sets to be created"
   ]
  },
  {
   "cell_type": "code",
   "execution_count": 127,
   "id": "22ba147e",
   "metadata": {},
   "outputs": [],
   "source": [
    "with open('gay_musicians.txt', 'r', encoding='utf-8') as file:\n",
    "    gay_list = file.read().splitlines()\n",
    "\n",
    "results_gay_df = pd.DataFrame(columns=['id', 'artist', 'title', 'lyrics', 'tag', 'year'])\n",
    "\n",
    "\n",
    "for artist in gay_list:\n",
    "    for i in range(1, 7):  \n",
    "        df_name = globals()[f'songs_df{i}']\n",
    "        \n",
    "        artist_rows = df_name[df_name['artist'].str.contains(artist, case=False)]\n",
    "        if not artist_rows.empty:\n",
    "          \n",
    "            results_gay_df = pd.concat([results_gay_df, artist_rows], ignore_index=True)\n",
    "\n",
    "\n",
    "results_gay_df.to_csv('gay_songs.csv', index=False)"
   ]
  },
  {
   "cell_type": "code",
   "execution_count": 128,
   "id": "ca8e2656",
   "metadata": {},
   "outputs": [],
   "source": [
    "with open('bi_musicians.txt', 'r', encoding='utf-8') as file:\n",
    "    bi_list = file.read().splitlines()\n",
    "\n",
    "    \n",
    "results_bi_df = pd.DataFrame(columns=['id', 'artist', 'title', 'lyrics', 'tag', 'year'])\n",
    "\n",
    "\n",
    "for artist in bi_list:\n",
    "    for i in range(1, 7):  \n",
    "        df_name = globals()[f'songs_df{i}']\n",
    "        \n",
    "        artist_rows = df_name[df_name['artist'].str.contains(artist, case=False)]\n",
    "        if not artist_rows.empty:\n",
    "            \n",
    "            results_bi_df = pd.concat([results_bi_df, artist_rows], ignore_index=True)\n",
    "\n",
    "\n",
    "results_bi_df.to_csv('bi_songs.csv', index=False)"
   ]
  },
  {
   "cell_type": "code",
   "execution_count": 129,
   "id": "e3118564",
   "metadata": {},
   "outputs": [],
   "source": [
    "with open('transgender_musicians.txt', 'r', encoding='utf-8') as file:\n",
    "    transgender_list = file.read().splitlines()\n",
    "\n",
    "\n",
    "results_transgender_df = pd.DataFrame(columns=['id', 'artist', 'title', 'lyrics', 'tag', 'year'])\n",
    "\n",
    "\n",
    "for artist in transgender_list:\n",
    "    for i in range(1, 7): \n",
    "        df_name = globals()[f'songs_df{i}']\n",
    "       \n",
    "        artist_rows = df_name[df_name['artist'].str.contains(artist, case=False)]\n",
    "        if not artist_rows.empty:\n",
    "           \n",
    "            results_transgender_df = pd.concat([results_transgender_df, artist_rows], ignore_index=True)\n",
    "\n",
    "\n",
    "results_transgender_df.to_csv('transgender_songs.csv', index=False)"
   ]
  },
  {
   "cell_type": "code",
   "execution_count": 158,
   "id": "d113fc52",
   "metadata": {},
   "outputs": [],
   "source": [
    "with open('straight_musicians.txt', 'r', encoding='utf-8') as file:\n",
    "    straight_list = file.read().splitlines()\n",
    "\n",
    "\n",
    "results_straight_df = pd.DataFrame(columns=['id', 'artist', 'title', 'lyrics', 'tag', 'year'])\n",
    "\n",
    "\n",
    "for artist in straight_list:\n",
    "    for i in range(1, 7):  \n",
    "        df_name = globals()[f'songs_df{i}']\n",
    "   \n",
    "        artist_rows = df_name[df_name['artist'].str.contains(artist, case=False)]\n",
    "        if not artist_rows.empty:\n",
    "     \n",
    "            results_straight_df = pd.concat([results_straight_df, artist_rows], ignore_index=True)\n",
    "\n",
    "\n",
    "results_straight_df.to_csv('straight_songs.csv', index=False)"
   ]
  },
  {
   "cell_type": "code",
   "execution_count": 161,
   "id": "30e735a5",
   "metadata": {},
   "outputs": [
    {
     "data": {
      "text/plain": [
       "11769"
      ]
     },
     "execution_count": 161,
     "metadata": {},
     "output_type": "execute_result"
    }
   ],
   "source": [
    "len(results_lesbian_df)"
   ]
  },
  {
   "cell_type": "code",
   "execution_count": 162,
   "id": "f2559bb8",
   "metadata": {},
   "outputs": [
    {
     "data": {
      "text/plain": [
       "32171"
      ]
     },
     "execution_count": 162,
     "metadata": {},
     "output_type": "execute_result"
    }
   ],
   "source": [
    "len(results_gay_df)"
   ]
  },
  {
   "cell_type": "code",
   "execution_count": 163,
   "id": "b8b2df89",
   "metadata": {},
   "outputs": [
    {
     "data": {
      "text/plain": [
       "36817"
      ]
     },
     "execution_count": 163,
     "metadata": {},
     "output_type": "execute_result"
    }
   ],
   "source": [
    "len(results_bi_df)"
   ]
  },
  {
   "cell_type": "code",
   "execution_count": 164,
   "id": "a5c498bf",
   "metadata": {},
   "outputs": [
    {
     "data": {
      "text/plain": [
       "8450"
      ]
     },
     "execution_count": 164,
     "metadata": {},
     "output_type": "execute_result"
    }
   ],
   "source": [
    "len(results_transgender_df)"
   ]
  },
  {
   "cell_type": "code",
   "execution_count": 165,
   "id": "c42ffcd5",
   "metadata": {},
   "outputs": [
    {
     "data": {
      "text/plain": [
       "63304"
      ]
     },
     "execution_count": 165,
     "metadata": {},
     "output_type": "execute_result"
    }
   ],
   "source": [
    "len(results_straight_df)"
   ]
  }
 ],
 "metadata": {
  "kernelspec": {
   "display_name": "Python 3",
   "language": "python",
   "name": "python3"
  },
  "language_info": {
   "codemirror_mode": {
    "name": "ipython",
    "version": 3
   },
   "file_extension": ".py",
   "mimetype": "text/x-python",
   "name": "python",
   "nbconvert_exporter": "python",
   "pygments_lexer": "ipython3",
   "version": "3.8.8"
  }
 },
 "nbformat": 4,
 "nbformat_minor": 5
}
