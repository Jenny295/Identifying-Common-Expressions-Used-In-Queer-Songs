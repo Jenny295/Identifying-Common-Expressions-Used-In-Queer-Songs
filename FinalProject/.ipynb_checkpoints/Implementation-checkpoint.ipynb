{
 "cells": [
  {
   "cell_type": "markdown",
   "id": "a90b2be3",
   "metadata": {
    "id": "a90b2be3"
   },
   "source": [
    " # Identifying Common Expressions Used In Queer Songs"
   ]
  },
  {
   "cell_type": "markdown",
   "id": "32f96764",
   "metadata": {},
   "source": [
    "Parts of the code is based on the exercises from the course Natural Language Engineering 2 and changed accordingly.\n",
    "\n",
    "Other sources: https://github.com/q-downgrade/queer-subreddit-nlp/blob/master/code/1-modeling-and-analyzing-data.ipynb,\n",
    "https://scikit-learn.org/stable/modules/generated/sklearn.feature_extraction.text.CountVectorizer.html,\n",
    "https://huggingface.co/docs/transformers/model_doc/roberta"
   ]
  },
  {
   "cell_type": "code",
   "execution_count": 1,
   "id": "2d2aeaa8",
   "metadata": {
    "id": "2d2aeaa8"
   },
   "outputs": [],
   "source": [
    "import pandas as pd\n",
    "import matplotlib.pyplot as plt\n",
    "import seaborn as sns\n",
    "import re\n",
    "from sklearn.feature_extraction._stop_words import ENGLISH_STOP_WORDS\n",
    "from sklearn.feature_extraction.text import CountVectorizer, TfidfVectorizer\n",
    "import torch\n",
    "from torch.utils.data import DataLoader, TensorDataset\n",
    "from sklearn.model_selection import train_test_split\n",
    "from transformers import RobertaTokenizer, RobertaForSequenceClassification, AdamW\n",
    "from sklearn.metrics import classification_report\n",
    "from sklearn.preprocessing import LabelEncoder\n",
    "from nltk.stem import WordNetLemmatizer\n",
    "from sklearn.metrics import accuracy_score\n",
    "\n",
    "\n",
    "import warnings\n",
    "warnings.filterwarnings('ignore')"
   ]
  },
  {
   "cell_type": "markdown",
   "id": "786df09e",
   "metadata": {
    "id": "786df09e"
   },
   "source": [
    "## Loading Data and Analysis"
   ]
  },
  {
   "cell_type": "markdown",
   "id": "8d4ed302",
   "metadata": {},
   "source": [
    "Parts of the Code taken from Q Leedham. queer-subreddit-nlp (2020). \n",
    "Source: https://github.com/q-downgrade/queer-subreddit-nlp/blob/master/code/1-modeling-and-analyzing-data.ipynb .\n",
    "Code was adjusted "
   ]
  },
  {
   "cell_type": "code",
   "execution_count": 2,
   "id": "e7547d4a",
   "metadata": {
    "id": "e7547d4a"
   },
   "outputs": [],
   "source": [
    "# Loads the datasets from the created CSV files (CreatingDatasets.ipynb)\n",
    "lesbian_df = pd.read_csv(\"lesbian_songs.csv\")\n",
    "gay_df = pd.read_csv(\"gay_songs.csv\")\n",
    "bi_df = pd.read_csv(\"bi_songs.csv\")\n",
    "transgender_df = pd.read_csv(\"transgender_songs.csv\")\n",
    "straight_df = pd.read_csv(\"straight_songs.csv\")"
   ]
  },
  {
   "cell_type": "code",
   "execution_count": 3,
   "id": "1f93d20f",
   "metadata": {
    "id": "1f93d20f"
   },
   "outputs": [],
   "source": [
    "# List of the data frames\n",
    "dataframes = [lesbian_df, gay_df, bi_df, transgender_df, straight_df]\n",
    "\n",
    "# Data frame names\n",
    "dataframe_names = [\"lesbian_df\", \"gay_df\", \"bi_df\", \"transgender_df\", \"straight_df\"]"
   ]
  },
  {
   "cell_type": "code",
   "execution_count": 4,
   "id": "d8c6926f",
   "metadata": {
    "colab": {
     "base_uri": "https://localhost:8080/",
     "height": 293
    },
    "id": "d8c6926f",
    "outputId": "d1e4ed77-940c-46a6-8fb2-375593e3a6b3"
   },
   "outputs": [
    {
     "data": {
      "text/html": [
       "<div>\n",
       "<style scoped>\n",
       "    .dataframe tbody tr th:only-of-type {\n",
       "        vertical-align: middle;\n",
       "    }\n",
       "\n",
       "    .dataframe tbody tr th {\n",
       "        vertical-align: top;\n",
       "    }\n",
       "\n",
       "    .dataframe thead th {\n",
       "        text-align: right;\n",
       "    }\n",
       "</style>\n",
       "<table border=\"1\" class=\"dataframe\">\n",
       "  <thead>\n",
       "    <tr style=\"text-align: right;\">\n",
       "      <th></th>\n",
       "      <th>id</th>\n",
       "      <th>artist</th>\n",
       "      <th>title</th>\n",
       "      <th>lyrics</th>\n",
       "      <th>tag</th>\n",
       "      <th>year</th>\n",
       "      <th>views</th>\n",
       "      <th>features</th>\n",
       "      <th>language_cld3</th>\n",
       "      <th>language_ft</th>\n",
       "      <th>language</th>\n",
       "    </tr>\n",
       "  </thead>\n",
       "  <tbody>\n",
       "    <tr>\n",
       "      <th>0</th>\n",
       "      <td>1688280</td>\n",
       "      <td>Gaye Adegbalola</td>\n",
       "      <td>Nothings Changed</td>\n",
       "      <td>Sit-ins and picket lines for civil rights\\nDog...</td>\n",
       "      <td>pop</td>\n",
       "      <td>1999</td>\n",
       "      <td>142.0</td>\n",
       "      <td>{}</td>\n",
       "      <td>en</td>\n",
       "      <td>en</td>\n",
       "      <td>en</td>\n",
       "    </tr>\n",
       "    <tr>\n",
       "      <th>1</th>\n",
       "      <td>3056891</td>\n",
       "      <td>Alex the Astronaut</td>\n",
       "      <td>Already Home</td>\n",
       "      <td>[Verse 1]\\nBus was late\\nI don't care, I guess...</td>\n",
       "      <td>pop</td>\n",
       "      <td>2016</td>\n",
       "      <td>2941.0</td>\n",
       "      <td>{}</td>\n",
       "      <td>en</td>\n",
       "      <td>en</td>\n",
       "      <td>en</td>\n",
       "    </tr>\n",
       "    <tr>\n",
       "      <th>2</th>\n",
       "      <td>3056952</td>\n",
       "      <td>Alex the Astronaut</td>\n",
       "      <td>Rockstar City</td>\n",
       "      <td>[Verse 1]\\nWild smiles from the streets\\nI thi...</td>\n",
       "      <td>pop</td>\n",
       "      <td>2017</td>\n",
       "      <td>1795.0</td>\n",
       "      <td>{}</td>\n",
       "      <td>en</td>\n",
       "      <td>en</td>\n",
       "      <td>en</td>\n",
       "    </tr>\n",
       "    <tr>\n",
       "      <th>3</th>\n",
       "      <td>3056962</td>\n",
       "      <td>Alex the Astronaut</td>\n",
       "      <td>I Believe in Music</td>\n",
       "      <td>[Verse 1]\\nFor my seventh birthday\\nI was give...</td>\n",
       "      <td>pop</td>\n",
       "      <td>2017</td>\n",
       "      <td>487.0</td>\n",
       "      <td>{}</td>\n",
       "      <td>en</td>\n",
       "      <td>en</td>\n",
       "      <td>en</td>\n",
       "    </tr>\n",
       "    <tr>\n",
       "      <th>4</th>\n",
       "      <td>3218483</td>\n",
       "      <td>Alex the Astronaut</td>\n",
       "      <td>Not Worth Hiding</td>\n",
       "      <td>[Verse 1]\\nI learnt to drive to school when I ...</td>\n",
       "      <td>pop</td>\n",
       "      <td>2017</td>\n",
       "      <td>10047.0</td>\n",
       "      <td>{}</td>\n",
       "      <td>en</td>\n",
       "      <td>en</td>\n",
       "      <td>en</td>\n",
       "    </tr>\n",
       "  </tbody>\n",
       "</table>\n",
       "</div>"
      ],
      "text/plain": [
       "        id              artist               title  \\\n",
       "0  1688280     Gaye Adegbalola    Nothings Changed   \n",
       "1  3056891  Alex the Astronaut        Already Home   \n",
       "2  3056952  Alex the Astronaut       Rockstar City   \n",
       "3  3056962  Alex the Astronaut  I Believe in Music   \n",
       "4  3218483  Alex the Astronaut    Not Worth Hiding   \n",
       "\n",
       "                                              lyrics  tag  year    views  \\\n",
       "0  Sit-ins and picket lines for civil rights\\nDog...  pop  1999    142.0   \n",
       "1  [Verse 1]\\nBus was late\\nI don't care, I guess...  pop  2016   2941.0   \n",
       "2  [Verse 1]\\nWild smiles from the streets\\nI thi...  pop  2017   1795.0   \n",
       "3  [Verse 1]\\nFor my seventh birthday\\nI was give...  pop  2017    487.0   \n",
       "4  [Verse 1]\\nI learnt to drive to school when I ...  pop  2017  10047.0   \n",
       "\n",
       "  features language_cld3 language_ft language  \n",
       "0       {}            en          en       en  \n",
       "1       {}            en          en       en  \n",
       "2       {}            en          en       en  \n",
       "3       {}            en          en       en  \n",
       "4       {}            en          en       en  "
      ]
     },
     "execution_count": 4,
     "metadata": {},
     "output_type": "execute_result"
    }
   ],
   "source": [
    "lesbian_df.head()"
   ]
  },
  {
   "cell_type": "code",
   "execution_count": 5,
   "id": "c1c0d75e",
   "metadata": {
    "colab": {
     "base_uri": "https://localhost:8080/"
    },
    "id": "c1c0d75e",
    "outputId": "570ec112-c91b-4eca-f249-587e6d6d67fb"
   },
   "outputs": [
    {
     "name": "stdout",
     "output_type": "stream",
     "text": [
      "Number of Missing Values in lesbian_df:\n",
      "artist      0\n",
      "title       0\n",
      "lyrics      0\n",
      "tag         0\n",
      "year        0\n",
      "language    0\n",
      "dtype: int64\n",
      "Number of Rows in lesbian_df: 6982\n",
      "Number of Missing Values in gay_df:\n",
      "artist      0\n",
      "title       1\n",
      "lyrics      0\n",
      "tag         0\n",
      "year        0\n",
      "language    0\n",
      "dtype: int64\n",
      "Number of Rows in gay_df: 24918\n",
      "Number of Missing Values in bi_df:\n",
      "artist      0\n",
      "title       0\n",
      "lyrics      0\n",
      "tag         0\n",
      "year        0\n",
      "language    0\n",
      "dtype: int64\n",
      "Number of Rows in bi_df: 22365\n",
      "Number of Missing Values in transgender_df:\n",
      "artist      0\n",
      "title       0\n",
      "lyrics      0\n",
      "tag         0\n",
      "year        0\n",
      "language    0\n",
      "dtype: int64\n",
      "Number of Rows in transgender_df: 6056\n",
      "Number of Missing Values in straight_df:\n",
      "artist      0\n",
      "title       0\n",
      "lyrics      0\n",
      "tag         0\n",
      "year        0\n",
      "language    0\n",
      "dtype: int64\n",
      "Number of Rows in straight_df: 55303\n"
     ]
    }
   ],
   "source": [
    "# List of the columns to delete in the data frames\n",
    "columns_to_delete = ['id', 'views', 'features', 'language_cld3', 'language_ft']\n",
    "\n",
    "# Deletes the columns and rows where 'language' is not 'en' in all data frames\n",
    "for df, name in zip(dataframes, dataframe_names):\n",
    "    df.drop(columns=columns_to_delete, inplace=True)\n",
    "    original_rows = len(df)\n",
    "    df.drop(df[df['language'] != 'en'].index, inplace=True)\n",
    "    removed_rows = original_rows - len(df)\n",
    "    print(f'Number of Missing Values in {name}:')\n",
    "    print(df.isnull().sum())\n",
    "    print(f'Number of Rows in {name}: {len(df)}')\n"
   ]
  },
  {
   "cell_type": "code",
   "execution_count": 6,
   "id": "ad995241",
   "metadata": {
    "colab": {
     "base_uri": "https://localhost:8080/",
     "height": 206
    },
    "id": "ad995241",
    "outputId": "f28bf4ee-24fc-4611-c02a-45e9e9394430"
   },
   "outputs": [
    {
     "data": {
      "text/html": [
       "<div>\n",
       "<style scoped>\n",
       "    .dataframe tbody tr th:only-of-type {\n",
       "        vertical-align: middle;\n",
       "    }\n",
       "\n",
       "    .dataframe tbody tr th {\n",
       "        vertical-align: top;\n",
       "    }\n",
       "\n",
       "    .dataframe thead th {\n",
       "        text-align: right;\n",
       "    }\n",
       "</style>\n",
       "<table border=\"1\" class=\"dataframe\">\n",
       "  <thead>\n",
       "    <tr style=\"text-align: right;\">\n",
       "      <th></th>\n",
       "      <th>artist</th>\n",
       "      <th>title</th>\n",
       "      <th>lyrics</th>\n",
       "      <th>tag</th>\n",
       "      <th>year</th>\n",
       "      <th>language</th>\n",
       "    </tr>\n",
       "  </thead>\n",
       "  <tbody>\n",
       "    <tr>\n",
       "      <th>0</th>\n",
       "      <td>Brett Anderson</td>\n",
       "      <td>Crash About To Happen</td>\n",
       "      <td>Your face is armed with a sabotage of lipstick...</td>\n",
       "      <td>pop</td>\n",
       "      <td>2011</td>\n",
       "      <td>en</td>\n",
       "    </tr>\n",
       "    <tr>\n",
       "      <th>1</th>\n",
       "      <td>Brett Anderson</td>\n",
       "      <td>Hymn</td>\n",
       "      <td>Shining through the plate glass, hyacinths and...</td>\n",
       "      <td>pop</td>\n",
       "      <td>2009</td>\n",
       "      <td>en</td>\n",
       "    </tr>\n",
       "    <tr>\n",
       "      <th>2</th>\n",
       "      <td>Brett Anderson</td>\n",
       "      <td>With You Within You</td>\n",
       "      <td>When the Libra moon is high\\nAnd your ashes li...</td>\n",
       "      <td>pop</td>\n",
       "      <td>2015</td>\n",
       "      <td>en</td>\n",
       "    </tr>\n",
       "    <tr>\n",
       "      <th>3</th>\n",
       "      <td>Brett Anderson</td>\n",
       "      <td>Infinite Kiss</td>\n",
       "      <td>And when your clothes are on the ground\\nAnd y...</td>\n",
       "      <td>pop</td>\n",
       "      <td>2007</td>\n",
       "      <td>en</td>\n",
       "    </tr>\n",
       "    <tr>\n",
       "      <th>4</th>\n",
       "      <td>Brett Anderson</td>\n",
       "      <td>Song for My Father</td>\n",
       "      <td>Now my body is sand\\nAnd the wind blows throug...</td>\n",
       "      <td>pop</td>\n",
       "      <td>2007</td>\n",
       "      <td>en</td>\n",
       "    </tr>\n",
       "  </tbody>\n",
       "</table>\n",
       "</div>"
      ],
      "text/plain": [
       "           artist                  title  \\\n",
       "0  Brett Anderson  Crash About To Happen   \n",
       "1  Brett Anderson                   Hymn   \n",
       "2  Brett Anderson    With You Within You   \n",
       "3  Brett Anderson          Infinite Kiss   \n",
       "4  Brett Anderson     Song for My Father   \n",
       "\n",
       "                                              lyrics  tag  year language  \n",
       "0  Your face is armed with a sabotage of lipstick...  pop  2011       en  \n",
       "1  Shining through the plate glass, hyacinths and...  pop  2009       en  \n",
       "2  When the Libra moon is high\\nAnd your ashes li...  pop  2015       en  \n",
       "3  And when your clothes are on the ground\\nAnd y...  pop  2007       en  \n",
       "4  Now my body is sand\\nAnd the wind blows throug...  pop  2007       en  "
      ]
     },
     "execution_count": 6,
     "metadata": {},
     "output_type": "execute_result"
    }
   ],
   "source": [
    "bi_df.head()"
   ]
  },
  {
   "cell_type": "code",
   "execution_count": 7,
   "id": "85ab7d1f",
   "metadata": {
    "id": "85ab7d1f"
   },
   "outputs": [],
   "source": [
    "# Combines the LGBTQIA+ data frames in one\n",
    "queer_df = pd.concat([lesbian_df, gay_df, bi_df, transgender_df], ignore_index=True)\n",
    "\n",
    "dataframes.append(queer_df)\n",
    "dataframe_names.append(\"queer_df\")"
   ]
  },
  {
   "cell_type": "code",
   "execution_count": 8,
   "id": "384cc81d",
   "metadata": {
    "id": "384cc81d"
   },
   "outputs": [],
   "source": [
    "pronouns = ['she', 'her', 'hers', 'he', 'him', 'his', 'they', 'them', 'theirs']\n",
    "# Removes the pronouns from the ENGLISH_STOP_WORDS list\n",
    "stop_words = set(word for word in ENGLISH_STOP_WORDS if word not in pronouns)"
   ]
  },
  {
   "cell_type": "code",
   "execution_count": 10,
   "id": "cf7725a0",
   "metadata": {
    "id": "cf7725a0"
   },
   "outputs": [],
   "source": [
    "NUM_TOP_WORDS = 20"
   ]
  },
  {
   "cell_type": "markdown",
   "id": "c1b806c9",
   "metadata": {},
   "source": [
    "Source used: https://scikit-learn.org/stable/modules/generated/sklearn.feature_extraction.text.CountVectorizer.html"
   ]
  },
  {
   "cell_type": "code",
   "execution_count": 11,
   "id": "52125f06",
   "metadata": {
    "colab": {
     "base_uri": "https://localhost:8080/",
     "height": 582
    },
    "id": "52125f06",
    "outputId": "63bcc50a-bb8d-43bd-e698-497bcadc4b66"
   },
   "outputs": [
    {
     "name": "stdout",
     "output_type": "stream",
     "text": [
      "Top Words in lesbian_df:\n",
      "    Word  Frequency\n",
      "11  love      12008\n",
      "2    don      11102\n",
      "10  like      10440\n",
      "7   know      10289\n",
      "16  they       9297\n",
      "4     he       9249\n",
      "6   just       8993\n",
      "5    his       7327\n",
      "3    got       6489\n",
      "18    ve       6276\n",
      "17  time       6142\n",
      "15   she       5632\n",
      "19  want       5287\n",
      "8    let       5163\n",
      "13   man       5068\n",
      "14   say       5005\n",
      "1   come       4925\n",
      "9   life       4623\n",
      "12  make       4436\n",
      "0   baby       4276\n"
     ]
    },
    {
     "data": {
      "image/png": "[encoded data removed]",
      "text/plain": [
       "<Figure size 432x288 with 1 Axes>"
      ]
     },
     "metadata": {
      "needs_background": "light"
     },
     "output_type": "display_data"
    },
    {
     "name": "stdout",
     "output_type": "stream",
     "text": [
      "Top Words in gay_df:\n",
      "     Word  Frequency\n",
      "3     don      42949\n",
      "11   love      42702\n",
      "10   like      39612\n",
      "8    know      38602\n",
      "7    just      36386\n",
      "15   they      27878\n",
      "4     got      26323\n",
      "14    she      23119\n",
      "5      he      22074\n",
      "16   time      21626\n",
      "17     ve      20556\n",
      "9     let      19130\n",
      "18   want      17395\n",
      "0    baby      16230\n",
      "13    say      16172\n",
      "2    come      16154\n",
      "19    way      15804\n",
      "12   make      15562\n",
      "1   cause      14301\n",
      "6     her      14123\n"
     ]
    },
    {
     "data": {
      "image/png": "[encoded data removed]",
      "text/plain": [
       "<Figure size 432x288 with 1 Axes>"
      ]
     },
     "metadata": {
      "needs_background": "light"
     },
     "output_type": "display_data"
    },
    {
     "name": "stdout",
     "output_type": "stream",
     "text": [
      "Top Words in bi_df:\n",
      "     Word  Frequency\n",
      "3     don      42416\n",
      "9    like      39643\n",
      "7    know      38170\n",
      "6    just      33683\n",
      "10   love      33545\n",
      "14   they      26987\n",
      "4     got      25544\n",
      "5      he      21558\n",
      "13    she      21179\n",
      "15   time      20236\n",
      "18   want      18340\n",
      "8     let      18271\n",
      "16     ve      18036\n",
      "11   make      16529\n",
      "0    baby      15971\n",
      "1   cause      15406\n",
      "17  wanna      15126\n",
      "12    say      15093\n",
      "19    way      14310\n",
      "2    come      14044\n"
     ]
    },
    {
     "data": {
      "image/png": "[encoded data removed]",
      "text/plain": [
       "<Figure size 432x288 with 1 Axes>"
      ]
     },
     "metadata": {
      "needs_background": "light"
     },
     "output_type": "display_data"
    },
    {
     "name": "stdout",
     "output_type": "stream",
     "text": [
      "Top Words in transgender_df:\n",
      "     Word  Frequency\n",
      "2     don      11676\n",
      "6    know       9899\n",
      "8    like       9539\n",
      "5    just       8436\n",
      "9    love       7807\n",
      "14   they       5745\n",
      "4     got       5309\n",
      "15   time       5154\n",
      "18   want       4716\n",
      "16     ve       4537\n",
      "7     let       4470\n",
      "10   make       3887\n",
      "1   cause       3834\n",
      "17  wanna       3794\n",
      "13    she       3791\n",
      "3    feel       3758\n",
      "12    say       3561\n",
      "11   need       3405\n",
      "19    way       3348\n",
      "0    baby       3254\n"
     ]
    },
    {
     "data": {
      "image/png": "[encoded data removed]",
      "text/plain": [
       "<Figure size 432x288 with 1 Axes>"
      ]
     },
     "metadata": {
      "needs_background": "light"
     },
     "output_type": "display_data"
    },
    {
     "name": "stdout",
     "output_type": "stream",
     "text": [
      "Top Words in straight_df:\n",
      "    Word  Frequency\n",
      "3    don     101638\n",
      "11  love      85549\n",
      "10  like      84954\n",
      "8   know      83640\n",
      "7   just      77929\n",
      "4    got      73239\n",
      "15  they      65942\n",
      "14   she      64264\n",
      "5     he      57172\n",
      "1   baby      56242\n",
      "16  time      47032\n",
      "2   come      43520\n",
      "9    let      43189\n",
      "17    ve      39000\n",
      "6    her      38741\n",
      "18  want      37383\n",
      "13   say      36222\n",
      "12  make      34346\n",
      "0    ain      34341\n",
      "19   way      33923\n"
     ]
    },
    {
     "data": {
      "image/png": "[encoded data removed]",
      "text/plain": [
       "<Figure size 432x288 with 1 Axes>"
      ]
     },
     "metadata": {
      "needs_background": "light"
     },
     "output_type": "display_data"
    },
    {
     "name": "stdout",
     "output_type": "stream",
     "text": [
      "Top Words in queer_df:\n",
      "     Word  Frequency\n",
      "3     don     108143\n",
      "9    like      99234\n",
      "7    know      96960\n",
      "10   love      96062\n",
      "6    just      87498\n",
      "14   they      69907\n",
      "4     got      63665\n",
      "5      he      56081\n",
      "13    she      53721\n",
      "15   time      53158\n",
      "16     ve      49405\n",
      "8     let      47034\n",
      "18   want      45738\n",
      "11   make      40414\n",
      "12    say      39831\n",
      "0    baby      39731\n",
      "2    come      38229\n",
      "19    way      37564\n",
      "1   cause      37260\n",
      "17  wanna      35700\n"
     ]
    },
    {
     "data": {
      "image/png": "[encoded data removed]",
      "text/plain": [
       "<Figure size 432x288 with 1 Axes>"
      ]
     },
     "metadata": {
      "needs_background": "light"
     },
     "output_type": "display_data"
    }
   ],
   "source": [
    "# Words to be removed from the dataset\n",
    "words_to_remove = ['oh', 'ah', 'yeah', 'yea', 'ya', 'la', 'uh', 'um', 'hey', 'woo', 'whoa', 'na', 'ooh', 'aah', 'll']\n",
    "\n",
    "# Creates a regular expression to remove these words\n",
    "word_pattern = r'\\b(?:' + '|'.join(re.escape(word) for word in words_to_remove) + r')\\b'\n",
    "\n",
    "# Creates a CountVectorizer using the stop_words variable\n",
    "count_vectorizer = CountVectorizer(stop_words=stop_words, max_features=NUM_TOP_WORDS)\n",
    "\n",
    "for df, name in zip(dataframes, dataframe_names):\n",
    "    lyrics_data = df['lyrics']\n",
    "\n",
    "    # Text preprocessing steps\n",
    "    lyrics_data = lyrics_data.str.lower()\n",
    "    lyrics_data = lyrics_data.apply(lambda x: re.sub(r'\\[.*?\\]', '', x))\n",
    "    lyrics_data = lyrics_data.apply(lambda x: re.sub(word_pattern, '', x))\n",
    "\n",
    "    # Transformes the lyrics data\n",
    "    word_counts = count_vectorizer.fit_transform(lyrics_data)\n",
    "\n",
    "    # Extracts the words and their frequencies\n",
    "    words = count_vectorizer.get_feature_names()\n",
    "\n",
    "    # Creates a DataFrame with the top words and their frequencies\n",
    "    word_frequencies = word_counts.sum(axis=0)\n",
    "    top_words_df = pd.DataFrame({'Word': words, 'Frequency': word_frequencies.tolist()[0]})\n",
    "\n",
    "    # Sorts the DataFrame by frequency in descending ordere\n",
    "    top_words_df = top_words_df.sort_values(by='Frequency', ascending=False)\n",
    "\n",
    "    # Output of the most frequently used words\n",
    "    print(f'Top Words in {name}:')\n",
    "    print(top_words_df)\n",
    "\n",
    "    # Visualizes the top words in a horizontal bar chart\n",
    "    top_words_df.head(10).plot(kind='barh', x='Word', y='Frequency')\n",
    "    plt.xlabel('Frequency')\n",
    "    plt.ylabel('Word')\n",
    "    plt.title(f'Top 10 Most Common Words in {name} Lyrics')\n",
    "    plt.show()\n"
   ]
  },
  {
   "cell_type": "code",
   "execution_count": 12,
   "id": "56670e7f",
   "metadata": {
    "id": "56670e7f",
    "outputId": "27491e67-8944-466b-bc04-38eec4ffeacd"
   },
   "outputs": [
    {
     "name": "stdout",
     "output_type": "stream",
     "text": [
      "Top Bigram Phrases in lesbian_df:\n",
      "        Phrase  Frequency\n",
      "8     don know       1587\n",
      "44      ve got       1538\n",
      "36       oh oh       1319\n",
      "33   love love       1088\n",
      "27       la la        969\n",
      "12   don wanna        805\n",
      "13    don want        754\n",
      "48   yeah yeah        619\n",
      "19   just like        595\n",
      "10    don need        595\n",
      "37     ooh ooh        529\n",
      "15   feel like        529\n",
      "34       na na        510\n",
      "23   know know        501\n",
      "42    they say        461\n",
      "6        da da        420\n",
      "7     don care        352\n",
      "5    come come        337\n",
      "31   love hate        326\n",
      "38     run run        325\n",
      "47   want want        312\n",
      "9      don let        307\n",
      "20  just wanna        298\n",
      "39    she said        293\n",
      "21   just want        291\n",
      "41    they don        281\n",
      "11   don think        275\n",
      "45     ve seen        275\n",
      "0        ah ah        275\n",
      "17     he said        272\n",
      "25   know love        270\n",
      "1    baby baby        265\n",
      "22    know don        261\n",
      "29  little bit        258\n",
      "28   like like        258\n",
      "24     know ll        255\n",
      "46   want know        252\n",
      "2     baby don        245\n",
      "30    love don        240\n",
      "40  stone cold        240\n",
      "43   time time        236\n",
      "26     know ve        233\n",
      "4   close eyes        230\n",
      "18      him he        226\n",
      "3      baby yo        226\n",
      "14    far away        222\n",
      "35     oh love        222\n",
      "32   love like        221\n",
      "16  feels like        220\n",
      "49     yo baby        220\n"
     ]
    },
    {
     "data": {
      "image/png": "[encoded data removed]",
      "text/plain": [
       "<Figure size 432x288 with 1 Axes>"
      ]
     },
     "metadata": {
      "needs_background": "light"
     },
     "output_type": "display_data"
    },
    {
     "name": "stdout",
     "output_type": "stream",
     "text": [
      "Top Bigram Phrases in gay_df:\n",
      "        Phrase  Frequency\n",
      "9     don know       6103\n",
      "36       oh oh       6001\n",
      "44      ve got       4454\n",
      "32   love love       4099\n",
      "49   yeah yeah       3653\n",
      "13   don wanna       2790\n",
      "14    don want       2615\n",
      "37     ooh ooh       2297\n",
      "15   feel like       1982\n",
      "23   know know       1963\n",
      "19   just like       1858\n",
      "11    don need       1730\n",
      "7     don care       1547\n",
      "26       la la       1481\n",
      "42    they say       1440\n",
      "20  just wanna       1431\n",
      "10     don let       1369\n",
      "18     hey hey       1189\n",
      "25   know love       1126\n",
      "43   time time       1105\n",
      "22    know don       1081\n",
      "40    they don       1049\n",
      "31   love like       1019\n",
      "5    come come       1009\n",
      "24     know ll       1004\n",
      "47   want want        970\n",
      "1      ain got        958\n",
      "21   just want        950\n",
      "2    baby baby        949\n",
      "28  little bit        922\n",
      "45     ve seen        921\n",
      "34       na na        920\n",
      "48     won let        915\n",
      "8      don don        905\n",
      "27     let let        902\n",
      "3     baby don        880\n",
      "30    love don        875\n",
      "16  feels like        865\n",
      "0        ah ah        858\n",
      "12   don think        856\n",
      "39    she said        852\n",
      "33   make feel        836\n",
      "29     ll make        819\n",
      "4   close eyes        809\n",
      "17     he said        796\n",
      "41     they ll        790\n",
      "35     oh baby        790\n",
      "46  wanna know        785\n",
      "38     she got        768\n",
      "6        da da        753\n"
     ]
    },
    {
     "data": {
      "image/png": "[encoded data removed]",
      "text/plain": [
       "<Figure size 432x288 with 1 Axes>"
      ]
     },
     "metadata": {
      "needs_background": "light"
     },
     "output_type": "display_data"
    },
    {
     "name": "stdout",
     "output_type": "stream",
     "text": [
      "Top Bigram Phrases in bi_df:\n",
      "        Phrase  Frequency\n",
      "36       oh oh      10847\n",
      "8     don know       5944\n",
      "49   yeah yeah       3943\n",
      "45      ve got       3702\n",
      "32   love love       3635\n",
      "37     ooh ooh       3489\n",
      "13   don wanna       3156\n",
      "0        ah ah       2783\n",
      "14    don want       2511\n",
      "28       la la       2163\n",
      "18   feel like       2096\n",
      "25   know know       2047\n",
      "11    don need       1974\n",
      "21   just like       1643\n",
      "22  just wanna       1628\n",
      "5        da da       1491\n",
      "6     don care       1489\n",
      "20     hey hey       1469\n",
      "43    they say       1398\n",
      "34       na na       1371\n",
      "48   want want       1232\n",
      "16       eh eh       1157\n",
      "30  little bit       1143\n",
      "24    know don       1123\n",
      "15     doo doo       1098\n",
      "1      ain got       1082\n",
      "23   just want       1027\n",
      "2    baby baby       1012\n",
      "44   time time        996\n",
      "41    they don        964\n",
      "12   don think        942\n",
      "4    come come        924\n",
      "9      don let        921\n",
      "3     baby don        920\n",
      "19  feels like        879\n",
      "26     know ll        870\n",
      "17    far away        863\n",
      "42     they ll        807\n",
      "29     let let        806\n",
      "47  wanna know        793\n",
      "46     ve seen        792\n",
      "39     run run        782\n",
      "33   make feel        781\n",
      "31     ll make        774\n",
      "35     oh baby        771\n",
      "10    don like        763\n",
      "7     don fuck        758\n",
      "38   rain rain        751\n",
      "27   know they        749\n",
      "40     she got        742\n"
     ]
    },
    {
     "data": {
      "image/png": "[encoded data removed]",
      "text/plain": [
       "<Figure size 432x288 with 1 Axes>"
      ]
     },
     "metadata": {
      "needs_background": "light"
     },
     "output_type": "display_data"
    },
    {
     "name": "stdout",
     "output_type": "stream",
     "text": [
      "Top Bigram Phrases in transgender_df:\n",
      "         Phrase  Frequency\n",
      "38        oh oh       1725\n",
      "5      don know       1699\n",
      "45       ve got        923\n",
      "10    don wanna        901\n",
      "11     don want        798\n",
      "49    yeah yeah        777\n",
      "26        la la        673\n",
      "8      don need        620\n",
      "33    love love        606\n",
      "14    feel like        595\n",
      "39      ooh ooh        571\n",
      "22    know know        517\n",
      "2         da da        475\n",
      "3      don care        432\n",
      "17    just like        414\n",
      "18   just wanna        409\n",
      "0         ah ah        360\n",
      "6       don let        355\n",
      "20     know don        347\n",
      "36        na na        334\n",
      "23      know ll        321\n",
      "12      doo doo        313\n",
      "43     they say        301\n",
      "40  right right        287\n",
      "34    make feel        286\n",
      "19    just want        283\n",
      "1    close eyes        281\n",
      "15   feels like        266\n",
      "28    like like        264\n",
      "32     love don        259\n",
      "9     don think        257\n",
      "24      know ve        256\n",
      "48    want want        252\n",
      "44    time time        247\n",
      "29   little bit        234\n",
      "35  money money        232\n",
      "31      ll make        229\n",
      "13     far away        228\n",
      "4       don don        225\n",
      "16        ha ha        225\n",
      "27      let let        224\n",
      "42      they ll        222\n",
      "41     they don        217\n",
      "21    know just        213\n",
      "37      nah nah        212\n",
      "47     want don        211\n",
      "25    know want        208\n",
      "7      don like        204\n",
      "46      ve seen        203\n",
      "30        ll ll        198\n"
     ]
    },
    {
     "data": {
      "image/png": "[encoded data removed]",
      "text/plain": [
       "<Figure size 432x288 with 1 Axes>"
      ]
     },
     "metadata": {
      "needs_background": "light"
     },
     "output_type": "display_data"
    },
    {
     "name": "stdout",
     "output_type": "stream",
     "text": [
      "Top Bigram Phrases in straight_df:\n",
      "        Phrase  Frequency\n",
      "8     don know      13144\n",
      "49   yeah yeah      12668\n",
      "38       oh oh      10542\n",
      "47      ve got      10477\n",
      "32   love love       7489\n",
      "14    don want       5893\n",
      "27       la la       5529\n",
      "21   just like       5238\n",
      "39     ooh ooh       5029\n",
      "13   don wanna       4983\n",
      "19     hey hey       4599\n",
      "2    baby baby       4551\n",
      "24   know know       3784\n",
      "16   feel like       3752\n",
      "6     don care       3688\n",
      "4    come come       3550\n",
      "10    don need       3472\n",
      "0        ah ah       3249\n",
      "3     baby don       3184\n",
      "17       ha ha       3111\n",
      "9      don let       3090\n",
      "45    they say       3072\n",
      "37     oh baby       3022\n",
      "1      ain got       3019\n",
      "15     doo doo       2820\n",
      "42    she said       2801\n",
      "46   time time       2622\n",
      "26   know love       2597\n",
      "43    they don       2558\n",
      "41     she got       2532\n",
      "29  little bit       2457\n",
      "5        da da       2399\n",
      "18     he said       2327\n",
      "22  just wanna       2253\n",
      "11    don stop       2208\n",
      "40   rock roll       2188\n",
      "7      don don       2182\n",
      "23    know don       2172\n",
      "48   want want       2139\n",
      "20    just don       2118\n",
      "28     let let       2095\n",
      "31    love don       2059\n",
      "36    new york       2017\n",
      "12   don think       1996\n",
      "34   make feel       1991\n",
      "44     they ll       1980\n",
      "33       ma ma       1972\n",
      "30   love baby       1888\n",
      "35       na na       1880\n",
      "25     know ll       1877\n"
     ]
    },
    {
     "data": {
      "image/png": "[encoded data removed]",
      "text/plain": [
       "<Figure size 432x288 with 1 Axes>"
      ]
     },
     "metadata": {
      "needs_background": "light"
     },
     "output_type": "display_data"
    },
    {
     "name": "stdout",
     "output_type": "stream",
     "text": [
      "Top Bigram Phrases in queer_df:\n",
      "        Phrase  Frequency\n",
      "39       oh oh      19892\n",
      "9     don know      15333\n",
      "46      ve got      10617\n",
      "36   love love       9428\n",
      "49   yeah yeah       8992\n",
      "14   don wanna       7652\n",
      "40     ooh ooh       6886\n",
      "15    don want       6678\n",
      "29       la la       5286\n",
      "18   feel like       5202\n",
      "26   know know       5028\n",
      "12    don need       4919\n",
      "22   just like       4510\n",
      "0        ah ah       4276\n",
      "7     don care       3820\n",
      "23  just wanna       3766\n",
      "44    they say       3600\n",
      "6        da da       3139\n",
      "38       na na       3135\n",
      "21     hey hey       3038\n",
      "10     don let       2952\n",
      "25    know don       2812\n",
      "48   want want       2766\n",
      "45   time time       2584\n",
      "32  little bit       2557\n",
      "24   just want       2551\n",
      "42    they don       2511\n",
      "27     know ll       2450\n",
      "5    come come       2436\n",
      "2    baby baby       2393\n",
      "1      ain got       2359\n",
      "13   don think       2330\n",
      "28   know love       2299\n",
      "3     baby don       2238\n",
      "19  feels like       2230\n",
      "47     ve seen       2191\n",
      "16     doo doo       2164\n",
      "37   make feel       2118\n",
      "30     let let       2114\n",
      "35   love like       2108\n",
      "33     ll make       2023\n",
      "43     they ll       2015\n",
      "4   close eyes       2010\n",
      "41    she said       2006\n",
      "8      don don       1988\n",
      "34    love don       1988\n",
      "17    far away       1959\n",
      "31   like like       1953\n",
      "20     he said       1920\n",
      "11    don like       1920\n"
     ]
    },
    {
     "data": {
      "image/png": "[encoded data removed]",
      "text/plain": [
       "<Figure size 432x288 with 1 Axes>"
      ]
     },
     "metadata": {
      "needs_background": "light"
     },
     "output_type": "display_data"
    }
   ],
   "source": [
    "# Phrases to be removed from the dataset\n",
    "phrases_to_remove = ['oh yeah', 'la la', 'uh huh', 'oh oh', 'da da', 'ah ah', 'yeah yeah', 'yea yea', 'ya ya', 'uh uh', 'um um', 'hey hey', 'woo woo', 'whoa whoa', 'na na', 'ooh ooh', 'aah aah', 'll ll']\n",
    "\n",
    "phrase_pattern = re.compile(r'(?:\\b(?:' + '|'.join(re.escape(phrase.strip()) for phrase in phrases_to_remove) + r')\\b)+?', re.IGNORECASE)\n",
    "\n",
    "# Creates a CountVectorizer using the stop_words variable and with 2 grams\n",
    "count_vectorizer = CountVectorizer(stop_words=stop_words, ngram_range=(2, 2), max_features=50)\n",
    "\n",
    "for df, name in zip(dataframes, dataframe_names):\n",
    "    lyrics_data = df['lyrics']\n",
    "\n",
    "    # Text preprocessing steps\n",
    "    lyrics_data = lyrics_data.str.lower() \n",
    "    lyrics_data = lyrics_data.apply(lambda x: re.sub(r'\\[.*?\\]', '', x))\n",
    "    lyrics_data = lyrics_data.apply(lambda x: re.sub(phrase_pattern, '', x))\n",
    "\n",
    "    # Transforms the lyrics data with 2-grams (bigrams)\n",
    "    phrase_counts = count_vectorizer.fit_transform(lyrics_data)\n",
    "\n",
    "    # Extracts the bigrams and their frequencies\n",
    "    phrases = count_vectorizer.get_feature_names()\n",
    "\n",
    "    # Creates a DataFrame with the top bigrams and their frequencies\n",
    "    phrase_frequencies = phrase_counts.sum(axis=0)\n",
    "    top_phrases_df = pd.DataFrame({'Phrase': phrases, 'Frequency': phrase_frequencies.tolist()[0]})\n",
    "\n",
    "    # Sorts the DataFrame by frequency in descending order\n",
    "    top_phrases_df = top_phrases_df.sort_values(by='Frequency', ascending=False)\n",
    "\n",
    "    # Output of the most frequently used bigramsn\n",
    "    print(f'Top Bigram Phrases in {name}:')\n",
    "    print(top_phrases_df)\n",
    "\n",
    "    # Visualizes the top bigrams in a horizontal bar chart\n",
    "    top_phrases_df.head(10).plot(kind='barh', x='Phrase', y='Frequency')\n",
    "    plt.xlabel('Frequency')\n",
    "    plt.ylabel('Phrase')\n",
    "    plt.title(f'Top 10 Most Common Bigram Phrases in {name} Lyrics')\n",
    "    plt.show()\n"
   ]
  },
  {
   "cell_type": "markdown",
   "id": "4999ff0a",
   "metadata": {
    "id": "4999ff0a"
   },
   "source": [
    "## Processing Data"
   ]
  },
  {
   "cell_type": "markdown",
   "id": "7fa6a17d",
   "metadata": {},
   "source": [
    "Parts of the Code taken from Q Leedham. queer-subreddit-nlp (2020). \n",
    "Source: https://github.com/q-downgrade/queer-subreddit-nlp/blob/master/code/1-modeling-and-analyzing-data.ipynb .\n",
    "Code was adjusted "
   ]
  },
  {
   "cell_type": "code",
   "execution_count": 13,
   "id": "ca703a5d",
   "metadata": {
    "id": "ca703a5d"
   },
   "outputs": [],
   "source": [
    "label_names = [\"lesbian\", \"gay\", \"bi\", \"transgender\", \"straight\", \"queer\"]\n",
    "\n",
    "# Creates an empty list to store the data frames\n",
    "dfs_with_label = []\n",
    "\n",
    "# Loop over the data frames and add the \"label\" column\n",
    "for df, name in zip(dataframes, label_names):\n",
    "    df['label'] = name\n",
    "    dfs_with_label.append(df)\n",
    "\n",
    "# Combines data frames\n",
    "complete_df = pd.concat(dfs_with_label, ignore_index=True)\n",
    "\n",
    "# Only select 1500 entries per label\n",
    "samples_per_label = 1500\n",
    "balanced_data = pd.DataFrame()\n",
    "\n",
    "for label in label_names:\n",
    "    label_data = complete_df[complete_df['label'] == label]\n",
    "    if len(label_data) >= samples_per_label:\n",
    "        balanced_data = pd.concat([balanced_data, label_data.sample(n=samples_per_label)])\n",
    "    else:\n",
    "        balanced_data = pd.concat([balanced_data, label_data])"
   ]
  },
  {
   "cell_type": "code",
   "execution_count": 17,
   "id": "f48eb65c",
   "metadata": {},
   "outputs": [
    {
     "data": {
      "text/html": [
       "<div>\n",
       "<style scoped>\n",
       "    .dataframe tbody tr th:only-of-type {\n",
       "        vertical-align: middle;\n",
       "    }\n",
       "\n",
       "    .dataframe tbody tr th {\n",
       "        vertical-align: top;\n",
       "    }\n",
       "\n",
       "    .dataframe thead th {\n",
       "        text-align: right;\n",
       "    }\n",
       "</style>\n",
       "<table border=\"1\" class=\"dataframe\">\n",
       "  <thead>\n",
       "    <tr style=\"text-align: right;\">\n",
       "      <th></th>\n",
       "      <th>artist</th>\n",
       "      <th>title</th>\n",
       "      <th>lyrics</th>\n",
       "      <th>tag</th>\n",
       "      <th>year</th>\n",
       "      <th>language</th>\n",
       "      <th>label</th>\n",
       "    </tr>\n",
       "  </thead>\n",
       "  <tbody>\n",
       "    <tr>\n",
       "      <th>0</th>\n",
       "      <td>Gaye Adegbalola</td>\n",
       "      <td>Nothings Changed</td>\n",
       "      <td>Sit-ins and picket lines for civil rights\\nDog...</td>\n",
       "      <td>pop</td>\n",
       "      <td>1999</td>\n",
       "      <td>en</td>\n",
       "      <td>lesbian</td>\n",
       "    </tr>\n",
       "    <tr>\n",
       "      <th>1</th>\n",
       "      <td>Alex the Astronaut</td>\n",
       "      <td>Already Home</td>\n",
       "      <td>[Verse 1]\\nBus was late\\nI don't care, I guess...</td>\n",
       "      <td>pop</td>\n",
       "      <td>2016</td>\n",
       "      <td>en</td>\n",
       "      <td>lesbian</td>\n",
       "    </tr>\n",
       "    <tr>\n",
       "      <th>2</th>\n",
       "      <td>Alex the Astronaut</td>\n",
       "      <td>Rockstar City</td>\n",
       "      <td>[Verse 1]\\nWild smiles from the streets\\nI thi...</td>\n",
       "      <td>pop</td>\n",
       "      <td>2017</td>\n",
       "      <td>en</td>\n",
       "      <td>lesbian</td>\n",
       "    </tr>\n",
       "    <tr>\n",
       "      <th>3</th>\n",
       "      <td>Alex the Astronaut</td>\n",
       "      <td>I Believe in Music</td>\n",
       "      <td>[Verse 1]\\nFor my seventh birthday\\nI was give...</td>\n",
       "      <td>pop</td>\n",
       "      <td>2017</td>\n",
       "      <td>en</td>\n",
       "      <td>lesbian</td>\n",
       "    </tr>\n",
       "    <tr>\n",
       "      <th>4</th>\n",
       "      <td>Alex the Astronaut</td>\n",
       "      <td>Not Worth Hiding</td>\n",
       "      <td>[Verse 1]\\nI learnt to drive to school when I ...</td>\n",
       "      <td>pop</td>\n",
       "      <td>2017</td>\n",
       "      <td>en</td>\n",
       "      <td>lesbian</td>\n",
       "    </tr>\n",
       "    <tr>\n",
       "      <th>...</th>\n",
       "      <td>...</td>\n",
       "      <td>...</td>\n",
       "      <td>...</td>\n",
       "      <td>...</td>\n",
       "      <td>...</td>\n",
       "      <td>...</td>\n",
       "      <td>...</td>\n",
       "    </tr>\n",
       "    <tr>\n",
       "      <th>9995</th>\n",
       "      <td>Declan Bennett</td>\n",
       "      <td>Blu Tack</td>\n",
       "      <td>Face up, stare at the ceiling\\nCold hard floor...</td>\n",
       "      <td>pop</td>\n",
       "      <td>2008</td>\n",
       "      <td>en</td>\n",
       "      <td>gay</td>\n",
       "    </tr>\n",
       "    <tr>\n",
       "      <th>9996</th>\n",
       "      <td>Declan Bennett</td>\n",
       "      <td>Zs and Q</td>\n",
       "      <td>I want to be ignorant\\nI don’t want to care\\nI...</td>\n",
       "      <td>pop</td>\n",
       "      <td>2008</td>\n",
       "      <td>en</td>\n",
       "      <td>gay</td>\n",
       "    </tr>\n",
       "    <tr>\n",
       "      <th>9997</th>\n",
       "      <td>Declan Bennett</td>\n",
       "      <td>Limelight</td>\n",
       "      <td>You are your time right now\\nNo star burns bri...</td>\n",
       "      <td>pop</td>\n",
       "      <td>2008</td>\n",
       "      <td>en</td>\n",
       "      <td>gay</td>\n",
       "    </tr>\n",
       "    <tr>\n",
       "      <th>9998</th>\n",
       "      <td>Declan Bennett</td>\n",
       "      <td>Things Unseen</td>\n",
       "      <td>Maybe i’ll stay\\nMaybe i’ll go\\nMaybe i’ll wai...</td>\n",
       "      <td>pop</td>\n",
       "      <td>2008</td>\n",
       "      <td>en</td>\n",
       "      <td>gay</td>\n",
       "    </tr>\n",
       "    <tr>\n",
       "      <th>9999</th>\n",
       "      <td>Declan Bennett</td>\n",
       "      <td>Storm</td>\n",
       "      <td>I got in a boat\\nAnd set out to sea\\nA mother ...</td>\n",
       "      <td>pop</td>\n",
       "      <td>2008</td>\n",
       "      <td>en</td>\n",
       "      <td>gay</td>\n",
       "    </tr>\n",
       "  </tbody>\n",
       "</table>\n",
       "<p>10000 rows × 7 columns</p>\n",
       "</div>"
      ],
      "text/plain": [
       "                  artist               title  \\\n",
       "0        Gaye Adegbalola    Nothings Changed   \n",
       "1     Alex the Astronaut        Already Home   \n",
       "2     Alex the Astronaut       Rockstar City   \n",
       "3     Alex the Astronaut  I Believe in Music   \n",
       "4     Alex the Astronaut    Not Worth Hiding   \n",
       "...                  ...                 ...   \n",
       "9995      Declan Bennett            Blu Tack   \n",
       "9996      Declan Bennett            Zs and Q   \n",
       "9997      Declan Bennett           Limelight   \n",
       "9998      Declan Bennett       Things Unseen   \n",
       "9999      Declan Bennett               Storm   \n",
       "\n",
       "                                                 lyrics  tag  year language  \\\n",
       "0     Sit-ins and picket lines for civil rights\\nDog...  pop  1999       en   \n",
       "1     [Verse 1]\\nBus was late\\nI don't care, I guess...  pop  2016       en   \n",
       "2     [Verse 1]\\nWild smiles from the streets\\nI thi...  pop  2017       en   \n",
       "3     [Verse 1]\\nFor my seventh birthday\\nI was give...  pop  2017       en   \n",
       "4     [Verse 1]\\nI learnt to drive to school when I ...  pop  2017       en   \n",
       "...                                                 ...  ...   ...      ...   \n",
       "9995  Face up, stare at the ceiling\\nCold hard floor...  pop  2008       en   \n",
       "9996  I want to be ignorant\\nI don’t want to care\\nI...  pop  2008       en   \n",
       "9997  You are your time right now\\nNo star burns bri...  pop  2008       en   \n",
       "9998  Maybe i’ll stay\\nMaybe i’ll go\\nMaybe i’ll wai...  pop  2008       en   \n",
       "9999  I got in a boat\\nAnd set out to sea\\nA mother ...  pop  2008       en   \n",
       "\n",
       "        label  \n",
       "0     lesbian  \n",
       "1     lesbian  \n",
       "2     lesbian  \n",
       "3     lesbian  \n",
       "4     lesbian  \n",
       "...       ...  \n",
       "9995      gay  \n",
       "9996      gay  \n",
       "9997      gay  \n",
       "9998      gay  \n",
       "9999      gay  \n",
       "\n",
       "[10000 rows x 7 columns]"
      ]
     },
     "execution_count": 17,
     "metadata": {},
     "output_type": "execute_result"
    }
   ],
   "source": [
    "complete_df.head(10000)"
   ]
  },
  {
   "cell_type": "code",
   "execution_count": null,
   "id": "IsLjXTtul0tW",
   "metadata": {
    "id": "IsLjXTtul0tW"
   },
   "outputs": [],
   "source": [
    "X_data = balanced_data['lyrics']\n",
    "\n",
    "Y_data = balanced_data['label']\n",
    "\n",
    "# Splits data into training and test sets\n",
    "X_train, X_test, Y_train, Y_test = train_test_split(X_data, Y_data, test_size=0.2, random_state=42)"
   ]
  },
  {
   "cell_type": "code",
   "execution_count": null,
   "id": "2l0YNoJal3EC",
   "metadata": {
    "id": "2l0YNoJal3EC"
   },
   "outputs": [],
   "source": [
    "# Text cleanup function\n",
    "def clean_text(text):\n",
    "    text = re.sub(r'[^a-zA-Z\\s]', '', text)  \n",
    "    text = text.lower() \n",
    "    text = re.sub(r'\\[.*?\\]', '', text) \n",
    "    text = re.sub(word_pattern, '', text) \n",
    "    text = re.sub(r'\\n', ' ', text)\n",
    "    \n",
    "    return text\n",
    "\n",
    "# Apply text cleaning to data\n",
    "X_train = X_train.apply(clean_text)\n",
    "X_test = X_test.apply(clean_text)"
   ]
  },
  {
   "cell_type": "markdown",
   "id": "d291e140",
   "metadata": {
    "id": "d291e140"
   },
   "source": [
    "## Modeling"
   ]
  },
  {
   "cell_type": "markdown",
   "id": "04a35df4",
   "metadata": {
    "id": "04a35df4"
   },
   "source": [
    "### Base Model"
   ]
  },
  {
   "cell_type": "code",
   "execution_count": null,
   "id": "73891b71",
   "metadata": {
    "colab": {
     "base_uri": "https://localhost:8080/"
    },
    "id": "73891b71",
    "outputId": "365940fa-5e46-4195-dd29-fa4caa565155"
   },
   "outputs": [
    {
     "data": {
      "text/plain": [
       "straight       0.172222\n",
       "queer          0.168889\n",
       "transgender    0.167778\n",
       "lesbian        0.166667\n",
       "bi             0.166111\n",
       "gay            0.158333\n",
       "Name: label, dtype: float64"
      ]
     },
     "execution_count": 112,
     "metadata": {},
     "output_type": "execute_result"
    }
   ],
   "source": [
    "Y_test.value_counts(normalize = True)"
   ]
  },
  {
   "cell_type": "markdown",
   "id": "064e8d18",
   "metadata": {
    "id": "064e8d18"
   },
   "source": [
    "### RoBERTa-Modell"
   ]
  },
  {
   "cell_type": "markdown",
   "id": "78c903dc",
   "metadata": {},
   "source": [
    "Source used: https://huggingface.co/docs/transformers/model_doc/roberta"
   ]
  },
  {
   "cell_type": "code",
   "execution_count": null,
   "id": "q8C3CpS0XSmL",
   "metadata": {
    "colab": {
     "base_uri": "https://localhost:8080/"
    },
    "id": "q8C3CpS0XSmL",
    "outputId": "75b65193-c3a9-4331-d3a7-a4641b0e26b7"
   },
   "outputs": [
    {
     "name": "stderr",
     "output_type": "stream",
     "text": [
      "Some weights of RobertaForSequenceClassification were not initialized from the model checkpoint at roberta-base and are newly initialized: ['classifier.out_proj.weight', 'classifier.dense.weight', 'classifier.out_proj.bias', 'classifier.dense.bias']\n",
      "You should probably TRAIN this model on a down-stream task to be able to use it for predictions and inference.\n"
     ]
    },
    {
     "name": "stdout",
     "output_type": "stream",
     "text": [
      "Epoch 1:\n",
      "              precision    recall  f1-score   support\n",
      "\n",
      "           0       0.25      0.01      0.02       299\n",
      "           1       0.14      0.01      0.02       285\n",
      "           2       0.25      0.21      0.23       300\n",
      "           3       0.00      0.00      0.00       304\n",
      "           4       0.28      0.53      0.37       310\n",
      "           5       0.21      0.64      0.32       302\n",
      "\n",
      "    accuracy                           0.24      1800\n",
      "   macro avg       0.19      0.23      0.16      1800\n",
      "weighted avg       0.19      0.24      0.16      1800\n",
      "\n",
      "Epoch 2:\n",
      "              precision    recall  f1-score   support\n",
      "\n",
      "           0       0.26      0.16      0.20       299\n",
      "           1       0.50      0.01      0.02       285\n",
      "           2       0.21      0.54      0.31       300\n",
      "           3       0.18      0.01      0.01       304\n",
      "           4       0.42      0.21      0.28       310\n",
      "           5       0.24      0.54      0.33       302\n",
      "\n",
      "    accuracy                           0.25      1800\n",
      "   macro avg       0.30      0.24      0.19      1800\n",
      "weighted avg       0.30      0.25      0.19      1800\n",
      "\n",
      "Epoch 3:\n",
      "              precision    recall  f1-score   support\n",
      "\n",
      "           0       0.22      0.46      0.29       299\n",
      "           1       0.19      0.25      0.21       285\n",
      "           2       0.56      0.02      0.03       300\n",
      "           3       0.23      0.08      0.12       304\n",
      "           4       0.29      0.59      0.39       310\n",
      "           5       0.31      0.03      0.05       302\n",
      "\n",
      "    accuracy                           0.24      1800\n",
      "   macro avg       0.30      0.24      0.18      1800\n",
      "weighted avg       0.30      0.24      0.18      1800\n",
      "\n",
      "Epoch 4:\n",
      "              precision    recall  f1-score   support\n",
      "\n",
      "           0       0.28      0.10      0.15       299\n",
      "           1       0.19      0.18      0.19       285\n",
      "           2       0.24      0.44      0.31       300\n",
      "           3       0.22      0.12      0.15       304\n",
      "           4       0.35      0.30      0.32       310\n",
      "           5       0.27      0.40      0.32       302\n",
      "\n",
      "    accuracy                           0.26      1800\n",
      "   macro avg       0.26      0.26      0.24      1800\n",
      "weighted avg       0.26      0.26      0.24      1800\n",
      "\n",
      "Epoch 5:\n",
      "              precision    recall  f1-score   support\n",
      "\n",
      "           0       0.26      0.33      0.29       299\n",
      "           1       0.23      0.25      0.24       285\n",
      "           2       0.27      0.13      0.18       300\n",
      "           3       0.23      0.06      0.09       304\n",
      "           4       0.34      0.39      0.36       310\n",
      "           5       0.28      0.47      0.35       302\n",
      "\n",
      "    accuracy                           0.27      1800\n",
      "   macro avg       0.27      0.27      0.25      1800\n",
      "weighted avg       0.27      0.27      0.25      1800\n",
      "\n"
     ]
    }
   ],
   "source": [
    "tokenizer = RobertaTokenizer.from_pretrained(\"roberta-base\")\n",
    "\n",
    "# Tokenizes text data and creates tensors\n",
    "train_encodings = tokenizer(list(X_train), truncation=True, padding=True, max_length=128, return_tensors='pt')\n",
    "test_encodings = tokenizer(list(X_test), truncation=True, padding=True, max_length=128, return_tensors='pt')\n",
    "\n",
    "label_encoder = LabelEncoder()\n",
    "Y_train_encoded = label_encoder.fit_transform(Y_train)\n",
    "Y_test_encoded = label_encoder.transform(Y_test)\n",
    "\n",
    "# Creates Tensor Datasets and DataLoaders\n",
    "train_dataset = TensorDataset(train_encodings['input_ids'], train_encodings['attention_mask'], torch.tensor(Y_train_encoded))\n",
    "test_dataset = TensorDataset(test_encodings['input_ids'], test_encodings['attention_mask'], torch.tensor(Y_test_encoded))\n",
    "\n",
    "batch_size = 16\n",
    "\n",
    "train_loader = DataLoader(train_dataset, batch_size=batch_size, shuffle=True)\n",
    "test_loader = DataLoader(test_dataset, batch_size=batch_size, shuffle=False)\n",
    "\n",
    "# Loads the pre-trained RoBERTa model for classification\n",
    "model = RobertaForSequenceClassification.from_pretrained(\"roberta-base\", num_labels=len(label_names))\n",
    "\n",
    "# Defines the optimizer\n",
    "optimizer = AdamW(model.parameters(), lr=1e-5)\n",
    "\n",
    "# Trains the model\n",
    "device = torch.device(\"cuda\" if torch.cuda.is_available() else \"cpu\")\n",
    "model.to(device)\n",
    "\n",
    "epochs = 4 \n",
    "\n",
    "for epoch in range(epochs):\n",
    "    model.train()\n",
    "    for batch in train_loader:\n",
    "        input_ids, attention_mask, labels = batch\n",
    "        input_ids, attention_mask, labels = input_ids.to(device), attention_mask.to(device), labels.to(device)\n",
    "\n",
    "        optimizer.zero_grad()\n",
    "        outputs = model(input_ids, attention_mask=attention_mask, labels=labels)\n",
    "        loss = outputs.loss\n",
    "        loss.backward()\n",
    "        optimizer.step()\n",
    "\n",
    "    # Model evaluation and calculation of classification metrics\n",
    "    model.eval()\n",
    "    predictions = []\n",
    "    true_labels = []\n",
    "\n",
    "    for batch in test_loader:\n",
    "        input_ids, attention_mask, labels = batch\n",
    "        input_ids, attention_mask, labels = input_ids.to(device), attention_mask.to(device), labels.to(device)\n",
    "\n",
    "        with torch.no_grad():\n",
    "            outputs = model(input_ids, attention_mask=attention_mask)\n",
    "\n",
    "        logits = outputs.logits\n",
    "        predicted_labels = torch.argmax(logits, dim=1)\n",
    "        predictions.extend(predicted_labels.cpu().numpy())\n",
    "        true_labels.extend(labels.cpu().numpy())\n",
    "\n",
    "    # Output of the classification metrics\n",
    "    print(f'Epoch {epoch + 1}:')\n",
    "    print(classification_report(true_labels, predictions))"
   ]
  }
 ],
 "metadata": {
  "colab": {
   "provenance": []
  },
  "kernelspec": {
   "display_name": "Python 3",
   "language": "python",
   "name": "python3"
  },
  "language_info": {
   "codemirror_mode": {
    "name": "ipython",
    "version": 3
   },
   "file_extension": ".py",
   "mimetype": "text/x-python",
   "name": "python",
   "nbconvert_exporter": "python",
   "pygments_lexer": "ipython3",
   "version": "3.8.8"
  }
 },
 "nbformat": 4,
 "nbformat_minor": 5
}
